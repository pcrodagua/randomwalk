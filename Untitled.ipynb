{
 "cells": [
  {
   "cell_type": "code",
   "execution_count": 4,
   "metadata": {},
   "outputs": [],
   "source": [
    "load('/home/cyborx/GitProys/randomwalk/fullF1.mat','con','V')"
   ]
  },
  {
   "cell_type": "code",
   "execution_count": 3,
   "metadata": {},
   "outputs": [
    {
     "name": "stdout",
     "output_type": "stream",
     "text": [
      "error: 'con' undefined near line 1 column 5\n",
      "error: 'con' undefined near line 1 column 5\n",
      "error: 'con' undefined near line 1 column 3\n",
      "error: 'Vin' undefined near line 1 column 4\n",
      "error: 'v' undefined near line 1 column 17\n",
      "error: 'Vin' undefined near line 1 column 3\n",
      "error: 'Vin' undefined near line 1 column 4\n"
     ]
    }
   ],
   "source": [
    "Vin=con(1,:);\n",
    "Ven=con(2,:);\n",
    "W=con(3,:);\n",
    "v=[Vin,Ven];\n",
    "cl= zeros(1,max(v));\n",
    "\n",
    "x=Vin(1);\n",
    "cl(Vin(1))=1;\n",
    "c=1;\n",
    "cont=0;\n",
    "\n",
    "while cont<max(v)\n",
    "    for i=1: length(Vin)\n",
    "        if W(i)>0\n",
    "            if cl( Vin(i) )==c || cl( Ven(i) )==c\n",
    "                cl( Vin(i) )=c;\n",
    "                cl( Ven(i) )=c;\n",
    "            end\n",
    "        end\n",
    "    end\n",
    "    c=c+1;\n",
    "    cont=0;\n",
    "    for i=1:length(cl)\n",
    "        if cl(i)==0\n",
    "            cl(i)=c;\n",
    "            break;\n",
    "        else\n",
    "            cont=cont+1;\n",
    "        end\n",
    "    end\n",
    "end\n",
    "\n",
    "%% Graficar\n",
    "l=1;\n",
    "%colorspec=zeroe\n",
    "colors = ['g*','y*','r*'];\n",
    "\n",
    "figure(1); cla;\n",
    "l1=c-1\n",
    "\n",
    "\n",
    "hold on\n",
    "pointsize = 30;\n",
    "scatter(V(:,1),V(:,2),pointsize,341)\n",
    "colormap(jet(341))"
   ]
  },
  {
   "cell_type": "code",
   "execution_count": null,
   "metadata": {},
   "outputs": [],
   "source": []
  }
 ],
 "metadata": {
  "kernelspec": {
   "display_name": "Octave",
   "language": "octave",
   "name": "octave"
  },
  "language_info": {
   "file_extension": ".m",
   "help_links": [
    {
     "text": "GNU Octave",
     "url": "https://www.gnu.org/software/octave/support.html"
    },
    {
     "text": "Octave Kernel",
     "url": "https://github.com/Calysto/octave_kernel"
    },
    {
     "text": "MetaKernel Magics",
     "url": "https://metakernel.readthedocs.io/en/latest/source/README.html"
    }
   ],
   "mimetype": "text/x-octave",
   "name": "octave",
   "version": "4.2.2"
  }
 },
 "nbformat": 4,
 "nbformat_minor": 4
}
