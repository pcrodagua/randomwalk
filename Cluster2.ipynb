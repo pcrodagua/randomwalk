{
 "cells": [
  {
   "cell_type": "code",
   "execution_count": 3,
   "metadata": {},
   "outputs": [],
   "source": [
    "V=load('/home/cyborx/GitProys/randomwalk/t58k.dat');\n",
    "load('/home/cyborx/GitProys/randomwalk/DistanciasF.mat','dis')"
   ]
  },
  {
   "cell_type": "code",
   "execution_count": 4,
   "metadata": {},
   "outputs": [],
   "source": [
    "In=[];\n",
    "Or=[];\n",
    "for i=1:length(dis)\n",
    "    [O,I]=sort(dis(i,:));\n",
    "    In=[In;I];\n",
    "    Or=[Or;O];\n",
    "end\n",
    "In=In(:,2:11);\n",
    "Or=Or(:,2:11);\n",
    "Vin=[];\n",
    "Ven=[];\n",
    "cont=1;\n",
    "for i=1:length(dis)\n",
    "    for j=1:10\n",
    "        IIn=In(i,j);\n",
    "        for k=1:10\n",
    "            if In(IIn,k)==i\n",
    "                Vin(cont)=i;\n",
    "                Ven(cont)=IIn; \n",
    "                cont=cont+1;\n",
    "            break;\n",
    "            end\n",
    "        end\n",
    "    end\n",
    "end\n",
    "\n",
    "j=1;\n",
    "M_pos=zeros(max(Vin));\n",
    "for i=1:length(Vin)\n",
    "    if Vin(i)<Ven(i)\n",
    "         x=Vin(i);\n",
    "         y=Ven(i);\n",
    "    else\n",
    "        y=Vin(i);\n",
    "        x=Ven(i);\n",
    "    end\n",
    "    if M_pos(x,y)==0\n",
    "        nVin(j)=Vin(i);\n",
    "        nVen(j)=Ven(i);\n",
    "        j=j+1;\n",
    "    end\n",
    "    M_pos(x,y)=1;\n",
    "end\n",
    "Vin=nVin;\n",
    "Ven=nVen;\n",
    "\n",
    "ave=0;\n",
    "for i=1:length(Vin)\n",
    "    ave=ave+dis(Vin(i),Ven(i));\n",
    "end\n",
    "ave=ave/length(Vin);\n",
    "save('preprocesoF.mat','In','Or','Vin','Ven','nVen','nVin','ave','I');\n"
   ]
  },
  {
   "cell_type": "code",
   "execution_count": null,
   "metadata": {},
   "outputs": [],
   "source": []
  }
 ],
 "metadata": {
  "kernelspec": {
   "display_name": "Octave",
   "language": "octave",
   "name": "octave"
  },
  "language_info": {
   "file_extension": ".m",
   "help_links": [
    {
     "text": "GNU Octave",
     "url": "https://www.gnu.org/software/octave/support.html"
    },
    {
     "text": "Octave Kernel",
     "url": "https://github.com/Calysto/octave_kernel"
    },
    {
     "text": "MetaKernel Magics",
     "url": "https://metakernel.readthedocs.io/en/latest/source/README.html"
    }
   ],
   "mimetype": "text/x-octave",
   "name": "octave",
   "version": "4.2.2"
  }
 },
 "nbformat": 4,
 "nbformat_minor": 4
}
