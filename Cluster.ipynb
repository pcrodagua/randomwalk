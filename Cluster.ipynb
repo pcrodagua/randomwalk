{
 "cells": [
  {
   "cell_type": "code",
   "execution_count": 4,
   "metadata": {},
   "outputs": [],
   "source": [
    "load('/home/cyborx/GitProys/randomwalk/Datas.mat','con','V')"
   ]
  },
  {
   "cell_type": "code",
   "execution_count": 5,
   "metadata": {},
   "outputs": [
    {
     "data": {
      "image/png": "[encoded data removed]",
      "text/plain": [
       "<IPython.core.display.Image object>"
      ]
     },
     "metadata": {},
     "output_type": "display_data"
    }
   ],
   "source": [
    "\n",
    "Vin=con(1,:);\n",
    "Ven=con(2,:);\n",
    "W=con(3,:);\n",
    "\n",
    "\n",
    "v=[Vin,Ven];\n",
    "cl= zeros(1,max(v));\n",
    "\n",
    "x=Vin(1);\n",
    "cl(Vin(1))=1;\n",
    "c=1;\n",
    "cont=0;\n",
    "\n",
    "%% Mio\n",
    "while cont<max(v)\n",
    "    for i=1: length(Vin)\n",
    "        if W(i)>6.5\n",
    "            if cl( Vin(i) )==c || cl( Ven(i) )==c\n",
    "                cl( Vin(i) )=c;\n",
    "                cl( Ven(i) )=c;\n",
    "            end\n",
    "        end\n",
    "    end\n",
    "    c=c+1;\n",
    "    cont=0;\n",
    "    for i=1:length(cl)\n",
    "        if cl(i)==0\n",
    "            cl(i)=c;\n",
    "            break;\n",
    "        else\n",
    "            cont=cont+1;\n",
    "        end\n",
    "    end\n",
    "end\n",
    "\n",
    "\n",
    "%% Graficar\n",
    "colorspec = { [ (0+18*0.052) (0+0*0.052) (0+0*0.052) ]; ...\n",
    "                     [ (0+0*0.052) (0+18*0.052) (0+0*0.052) ]; ...\n",
    "                     [ (0+0*0.052) (0+0*0.052) (0+18*0.052) ]; ...\n",
    "                     [ (0+9*0.052) (0+0*0.052) (0+0*0.052) ]; ...\n",
    "                     [ (0+0*0.052) (0+9*0.052) (0+0*0.052) ]; ...\n",
    "                     [ (0+0*0.052) (0+0*0.052) (0+9*0.052) ]; ...\n",
    "                     [ (0+4.5*0.052) (0+0*0.052) (0+0*0.052) ]; ...\n",
    "                     [ (0+0*0.052) (0+4.5*0.052) (0+0*0.052) ]; ...\n",
    "                     [ (0+0*0.052) (0+0*0.052) (0+4.5*0.052) ]; };\n",
    "figure(1); cla;\n",
    "hold on\n",
    "for i = 1:length(cl)\n",
    "     plot(V(i,1),V(i,2),'*', 'Color', colorspec{cl(i)})\n",
    "end\n",
    "\n"
   ]
  },
  {
   "cell_type": "code",
   "execution_count": null,
   "metadata": {},
   "outputs": [],
   "source": []
  }
 ],
 "metadata": {
  "kernelspec": {
   "display_name": "Octave",
   "language": "octave",
   "name": "octave"
  },
  "language_info": {
   "file_extension": ".m",
   "help_links": [
    {
     "text": "GNU Octave",
     "url": "https://www.gnu.org/software/octave/support.html"
    },
    {
     "text": "Octave Kernel",
     "url": "https://github.com/Calysto/octave_kernel"
    },
    {
     "text": "MetaKernel Magics",
     "url": "https://metakernel.readthedocs.io/en/latest/source/README.html"
    }
   ],
   "mimetype": "text/x-octave",
   "name": "octave",
   "version": "4.2.2"
  }
 },
 "nbformat": 4,
 "nbformat_minor": 4
}
