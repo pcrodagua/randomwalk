{
 "cells": [
  {
   "cell_type": "markdown",
   "metadata": {},
   "source": [
    "## Separation by neighborhood similarity\n",
    "\n"
   ]
  },
  {
   "cell_type": "code",
   "execution_count": 1,
   "metadata": {},
   "outputs": [],
   "source": [
    "function w=separeby_nhsimilarity(V, Vin, Ven, W, k)\n",
    "    M=zeros(length(V));\n",
    "    A=zeros(length(V));\n",
    "    for i=1:length(Vin)\n",
    "        A(Vin(i),Ven(i))=W(i);\n",
    "        A(Ven(i),Vin(i))=W(i);\n",
    "    end\n",
    "    for i=1:length(V)\n",
    "        d(i)=sum(A(i,:));\n",
    "    end\n",
    "    for i=1:length(V)\n",
    "        for j=1:length(V);\n",
    "            if d(i)>0\n",
    "                M(i,j)=A(i,j)/d(i);\n",
    "            else\n",
    "                xyz=0;\n",
    "            end\n",
    "        end\n",
    "    end\n",
    "    Pmkvis=zeros(length(V));\n",
    "    for i=1:k\n",
    "        x=M^i;\n",
    "        Pmkvis = Pmkvis + x;\n",
    "    end\n",
    "    for i=1:length(W)\n",
    "        w1(i)=exp(2*k - sum(abs(Pmkvis(Vin(i),:) - Pmkvis(Ven(i),:))))-1;\n",
    "    end\n",
    "    w=w1;\n",
    "end"
   ]
  },
  {
   "cell_type": "code",
   "execution_count": 2,
   "metadata": {},
   "outputs": [],
   "source": [
    "V=[];\n",
    "for i=1:12\n",
    "    for j=1:6\n",
    "        V=[V;i,j];\n",
    "    end\n",
    "end\n",
    "\n",
    "V=[V;13,3];\n",
    "V=[V;13,4];\n",
    "for i=14:17\n",
    "    for j=1:6\n",
    "        V=[V;i,j];\n",
    "    end\n",
    "end"
   ]
  },
  {
   "cell_type": "code",
   "execution_count": 3,
   "metadata": {},
   "outputs": [
    {
     "data": {
      "image/png": "[encoded data removed]",
      "text/plain": [
       "<IPython.core.display.Image object>"
      ]
     },
     "metadata": {},
     "output_type": "display_data"
    }
   ],
   "source": [
    "plot(V(:,1),V(:,2),'*')"
   ]
  },
  {
   "cell_type": "code",
   "execution_count": 4,
   "metadata": {},
   "outputs": [],
   "source": [
    "dis=[];\n",
    "for i=1:length(V)\n",
    "    for j=1:length(V)\n",
    "        dis(i,j)= sqrt((((V(i,1))- (V(j,1)))^2)+ (((V(i,2))- (V(j,2)))^2));\n",
    "    end \n",
    "end"
   ]
  },
  {
   "cell_type": "code",
   "execution_count": 5,
   "metadata": {},
   "outputs": [],
   "source": [
    "In=[];\n",
    "Or=[];\n",
    "for i=1:98\n",
    "    [O,I]=sort(dis(i,:));\n",
    "    In=[In;I];\n",
    "    Or=[Or;O];\n",
    "end\n",
    "\n",
    "In=In(:,2:11);\n",
    "Or=Or(:,2:11);\n",
    "Vin=[];\n",
    "Ven=[];\n",
    "cont=1;\n",
    "for i=1:98\n",
    "    for j=1:10\n",
    "        IIn=In(i,j);\n",
    "        for k=1:10\n",
    "            if In(IIn,k)==i\n",
    "                Vin(cont)=i;\n",
    "                Ven(cont)=IIn; \n",
    "                cont=cont+1;\n",
    "                break;\n",
    "            end\n",
    "        end\n",
    "    end\n",
    "end\n",
    "\n",
    "j=1;\n",
    "M_pos=zeros(max(Vin));\n",
    "for i=1:length(Vin)\n",
    "    if Vin(i)<Ven(i)\n",
    "        x=Vin(i);\n",
    "        y=Ven(i);\n",
    "    else\n",
    "        y=Vin(i);\n",
    "        x=Ven(i);\n",
    "    end\n",
    "    if M_pos(x,y)==0\n",
    "        nVin(j)=Vin(i);\n",
    "        nVen(j)=Ven(i);\n",
    "        j=j+1;\n",
    "    end\n",
    "    M_pos(x,y)=1;\n",
    "end\n",
    "\n",
    "Vin=nVin;\n",
    "Ven=nVen;\n",
    "ave=0;\n",
    "for i=1:length(Vin)\n",
    "    ave = ave + dis(Vin(i),Ven(i));\n",
    "end\n",
    "\n",
    "ave=ave/length(Vin);\n",
    "for i=1:length(Vin)\n",
    "    W(i)=exp(-(dis(Vin(i),Ven(i)))^2/(ave^2));\n",
    "end\n",
    "v=sort(I);\n",
    "k=2;\n",
    "ite=3;\n",
    "for i=1:ite\n",
    "    w=separeby_nhsimilarity(v,Vin,Ven,W,k);\n",
    "    W=w;\n",
    "end\n",
    "con=[Vin; Ven; W];"
   ]
  },
  {
   "cell_type": "code",
   "execution_count": 6,
   "metadata": {},
   "outputs": [],
   "source": [
    "save('data.mat','con','V')"
   ]
  },
  {
   "cell_type": "code",
   "execution_count": 7,
   "metadata": {},
   "outputs": [],
   "source": [
    "%% ejemplo paper\n",
    "v=[1:21];\n",
    "W=[ 1,1,1,1,1,1,1,1,1,1,1,1,1.5,1,1,1,1,1,1,1,1,1,1,1,1,1,1,1,1,1,1,1,1,1,1 ];\n",
    "Vin= [1, 1, 1, 2, 3, 2, 5, 5, 5, 6, 6, 7, 7,   8, 9,  10,  9,   9,   9,   4, 10, 11, 13, 12, 12, 13, 13, 14, 16, 15, 18, 19, 18, 18, 20 ];\n",
    "Ven=[2, 3, 4, 3, 4, 5. 6, 7, 8, 8, 7, 8, 11, 9, 10, 11, 13, 12, 19, 19, 13, 14, 14, 13, 15, 17, 16, 17, 17, 16, 19, 21, 21, 20, 21 ];\n",
    "k=3;\n",
    "ite=4;\n",
    "for i=1:ite\n",
    "     w=separeby_nhsimilarity(v,Vin,Ven,W,k);\n",
    "     W=w;\n",
    "end\n",
    "v=[Vin,Ven];\n",
    "cl= zeros(1,max(v));\n",
    "\n",
    "x=Vin(1);\n",
    "cl(Vin(1))=1;\n",
    "c=1;\n",
    "cont=0;"
   ]
  },
  {
   "cell_type": "code",
   "execution_count": 8,
   "metadata": {},
   "outputs": [],
   "source": [
    "while cont<max(v)\n",
    "    for i=1: length(Vin)\n",
    "        if W(i)>6.5\n",
    "            if cl( Vin(i) )==c || cl( Ven(i) )==c\n",
    "            cl( Vin(i) )=c;\n",
    "            cl( Ven(i) )=c;\n",
    "            end\n",
    "        end\n",
    "    end\n",
    "    c=c+1;\n",
    "    cont=0;\n",
    "    for i=1:length(cl)\n",
    "        if cl(i)==0\n",
    "            cl(i)=c;\n",
    "            break;\n",
    "        else\n",
    "            cont=cont+1;\n",
    "        end\n",
    "    end\n",
    "end"
   ]
  },
  {
   "cell_type": "code",
   "execution_count": 9,
   "metadata": {},
   "outputs": [
    {
     "data": {
      "image/png": "[encoded data removed]",
      "text/plain": [
       "<IPython.core.display.Image object>"
      ]
     },
     "metadata": {},
     "output_type": "display_data"
    }
   ],
   "source": [
    "%% graph the data\n",
    "colorspec = { [ (0+18*0.052) (0+0*0.052) (0+0*0.052) ]; ...\n",
    "                     [ (0+0*0.052) (0+18*0.052) (0+0*0.052) ]; ...\n",
    "                     [ (0+0*0.052) (0+0*0.052) (0+18*0.052) ]; ...\n",
    "                     [ (0+9*0.052) (0+0*0.052) (0+0*0.052) ]; ...\n",
    "                     [ (0+0*0.052) (0+9*0.052) (0+0*0.052) ]; ...\n",
    "                     [ (0+0*0.052) (0+0*0.052) (0+9*0.052) ]; ...\n",
    "                     [ (0+4.5*0.052) (0+0*0.052) (0+0*0.052) ]; ...\n",
    "                     [ (0+0*0.052) (0+4.5*0.052) (0+0*0.052) ]; ...\n",
    "                     [ (0+0*0.052) (0+0*0.052) (0+4.5*0.052) ]; };\n",
    "figure(1); cla;\n",
    "hold on\n",
    "for i = 1:length(cl)\n",
    "     plot(V(i,1),V(i,2),'*', 'Color', colorspec{cl(i)})\n",
    "end"
   ]
  },
  {
   "cell_type": "code",
   "execution_count": null,
   "metadata": {},
   "outputs": [],
   "source": []
  }
 ],
 "metadata": {
  "kernelspec": {
   "display_name": "Octave",
   "language": "octave",
   "name": "octave"
  },
  "language_info": {
   "file_extension": ".m",
   "help_links": [
    {
     "text": "GNU Octave",
     "url": "https://www.gnu.org/software/octave/support.html"
    },
    {
     "text": "Octave Kernel",
     "url": "https://github.com/Calysto/octave_kernel"
    },
    {
     "text": "MetaKernel Magics",
     "url": "https://metakernel.readthedocs.io/en/latest/source/README.html"
    }
   ],
   "mimetype": "text/x-octave",
   "name": "octave",
   "version": "4.2.2"
  }
 },
 "nbformat": 4,
 "nbformat_minor": 4
}
