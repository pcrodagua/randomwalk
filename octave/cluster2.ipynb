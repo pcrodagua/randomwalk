{
 "cells": [
  {
   "cell_type": "code",
   "execution_count": 1,
   "metadata": {},
   "outputs": [
    {
     "name": "stdout",
     "output_type": "stream",
     "text": [
      "error: load: unable to find file DistanciasF.mat\n"
     ]
    }
   ],
   "source": [
    "load('DistanciasF.mat','dis')"
   ]
  },
  {
   "cell_type": "code",
   "execution_count": 2,
   "metadata": {},
   "outputs": [
    {
     "name": "stdout",
     "output_type": "stream",
     "text": [
      "error: 'dis' undefined near line 1 column 16\n",
      "error: In(_,11): but In has size 0x0\n",
      "error: Or(_,11): but Or has size 0x0\n",
      "error: 'dis' undefined near line 1 column 16\n"
     ]
    }
   ],
   "source": [
    "In=[];\n",
    "Or=[];\n",
    "for i=1:length(dis)\n",
    "    [O,I]=sort(dis(i,:));\n",
    "    In=[In;I];\n",
    "    Or=[Or;O];\n",
    "end\n",
    "In=In(:,2:11);\n",
    "Or=Or(:,2:11);\n",
    "Vin=[];\n",
    "Ven=[];\n",
    "cont=1;\n",
    "for i=1:length(dis)\n",
    "    for j=1:10\n",
    "        IIn=In(i,j);\n",
    "        for k=1:10\n",
    "            if In(IIn,k)==i\n",
    "                Vin(cont)=i;\n",
    "                Ven(cont)=IIn; \n",
    "                cont=cont+1;\n",
    "            break;\n",
    "            end\n",
    "        end\n",
    "    end\n",
    "end"
   ]
  },
  {
   "cell_type": "code",
   "execution_count": 3,
   "metadata": {},
   "outputs": [
    {
     "name": "stdout",
     "output_type": "stream",
     "text": [
      "error: zeros (A): use zeros (size (A)) instead\n"
     ]
    }
   ],
   "source": [
    "j=1;\n",
    "M_pos=zeros(max(Vin));\n",
    "for i=1:length(Vin)\n",
    "    if Vin(i)<Ven(i)\n",
    "         x=Vin(i);\n",
    "         y=Ven(i);\n",
    "    else\n",
    "        y=Vin(i);\n",
    "        x=Ven(i);\n",
    "    end\n",
    "    if M_pos(x,y)==0\n",
    "        nVin(j)=Vin(i);\n",
    "        nVen(j)=Ven(i);\n",
    "        j=j+1;\n",
    "    end\n",
    "    M_pos(x,y)=1;\n",
    "end"
   ]
  },
  {
   "cell_type": "code",
   "execution_count": 4,
   "metadata": {},
   "outputs": [
    {
     "name": "stdout",
     "output_type": "stream",
     "text": [
      "error: 'nVin' undefined near line 1 column 5\n",
      "error: 'nVen' undefined near line 1 column 5\n",
      "warning: division by zero\n"
     ]
    }
   ],
   "source": [
    "Vin=nVin;\n",
    "Ven=nVen;\n",
    "\n",
    "ave=0;\n",
    "for i=1:length(Vin)\n",
    "    ave=ave+dis(Vin(i),Ven(i));\n",
    "end\n",
    "ave=ave/length(Vin);\n",
    "save('preprocesoF.mat','In','Or','Vin','Ven','nVen','nVin','ave','I');"
   ]
  }
 ],
 "metadata": {
  "kernelspec": {
   "display_name": "Octave",
   "language": "octave",
   "name": "octave"
  },
  "language_info": {
   "file_extension": ".m",
   "help_links": [
    {
     "text": "GNU Octave",
     "url": "https://www.gnu.org/software/octave/support.html"
    },
    {
     "text": "Octave Kernel",
     "url": "https://github.com/Calysto/octave_kernel"
    },
    {
     "text": "MetaKernel Magics",
     "url": "https://metakernel.readthedocs.io/en/latest/source/README.html"
    }
   ],
   "mimetype": "text/x-octave",
   "name": "octave",
   "version": "4.2.2"
  }
 },
 "nbformat": 4,
 "nbformat_minor": 4
}
