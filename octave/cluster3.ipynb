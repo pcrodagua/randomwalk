{
 "cells": [
  {
   "cell_type": "code",
   "execution_count": null,
   "metadata": {},
   "outputs": [],
   "source": [
    "V=load('t710k.dat');\n",
    "load('preprocesoF.mat','In','Or','Vin','Ven','nVen','nVin','ave','I','dis');"
   ]
  },
  {
   "cell_type": "code",
   "execution_count": null,
   "metadata": {},
   "outputs": [],
   "source": [
    "function w=separeby_nhsimilarity(V, Vin, Ven, W, k)\n",
    "    M=zeros(length(V));\n",
    "    A=zeros(length(V));\n",
    "    for i=1:length(Vin)\n",
    "        A(Vin(i),Ven(i))=W(i);\n",
    "        A(Ven(i),Vin(i))=W(i);\n",
    "    end\n",
    "    for i=1:length(V)\n",
    "        d(i)=sum(A(i,:));\n",
    "    end\n",
    "    for i=1:length(V)\n",
    "        for j=1:length(V);\n",
    "            if d(i)>0\n",
    "                M(i,j)=A(i,j)/d(i);\n",
    "            else\n",
    "                xyz=0;\n",
    "            end\n",
    "        end\n",
    "    end\n",
    "    Pmkvis=zeros(length(V));\n",
    "    for i=1:k\n",
    "        x=M^i;\n",
    "        Pmkvis = Pmkvis + x;\n",
    "    end\n",
    "    for i=1:length(W)\n",
    "        e=sum(abs(Pmkvis(Vin(i),:) - Pmkvis(Ven(i),:)));\n",
    "        w1(i)=exp(2*k-e)-1;\n",
    "    end\n",
    "    w=w1;\n",
    "end"
   ]
  },
  {
   "cell_type": "code",
   "execution_count": null,
   "metadata": {},
   "outputs": [],
   "source": [
    "for i=1:length(Vin)\n",
    "    W(i)=exp(-(dis(Vin(i),Ven(i)))^2/(ave^2));\n",
    "end\n",
    "v=sort(I);\n",
    "k=4;\n",
    "ite=4;\n",
    "for i=1:ite\n",
    "    w=separeby_nhsimilarity(v,Vin,Ven,W,k);\n",
    "    W=w;\n",
    "end\n",
    "\n",
    "con=[Vin; Ven; W];\n",
    "save('fullF1.mat','con','V')\n"
   ]
  },
  {
   "cell_type": "code",
   "execution_count": null,
   "metadata": {},
   "outputs": [],
   "source": []
  }
 ],
 "metadata": {
  "kernelspec": {
   "display_name": "Octave",
   "language": "octave",
   "name": "octave"
  },
  "language_info": {
   "file_extension": ".m",
   "help_links": [
    {
     "text": "GNU Octave",
     "url": "https://www.gnu.org/software/octave/support.html"
    },
    {
     "text": "Octave Kernel",
     "url": "https://github.com/Calysto/octave_kernel"
    },
    {
     "text": "MetaKernel Magics",
     "url": "https://metakernel.readthedocs.io/en/latest/source/README.html"
    }
   ],
   "mimetype": "text/x-octave",
   "name": "octave",
   "version": "4.2.2"
  }
 },
 "nbformat": 4,
 "nbformat_minor": 4
}
