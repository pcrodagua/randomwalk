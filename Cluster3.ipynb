{
 "cells": [
  {
   "cell_type": "code",
   "execution_count": 1,
   "metadata": {},
   "outputs": [],
   "source": [
    "V=load('/home/cyborx/GitProys/randomwalk/t710k.dat');\n",
    "load('/home/cyborx/GitProys/randomwalk/preprocesoF.mat','In','Or','Vin','Ven','nVen','nVin','ave','I');\n",
    "load('/home/cyborx/GitProys/randomwalk/DistanciasF.mat','dis')"
   ]
  },
  {
   "cell_type": "code",
   "execution_count": null,
   "metadata": {},
   "outputs": [],
   "source": [
    "%% time\n",
    "\n",
    "for i=1:length(Vin)\n",
    "    W(i)=exp(-(dis(Vin(i),Ven(i)))^2/(ave^2));\n",
    "end\n",
    "v=sort(I);\n",
    "%%\n",
    "k=4;\n",
    "ite=4;\n",
    "for i=1:ite\n",
    "    w=Sep_by_nei(v,Vin,Ven,W,k);\n",
    "    W=w;\n",
    "end\n",
    "\n",
    "con=[Vin; Ven; W];\n",
    "save('fullF1.mat','con','V')\n"
   ]
  },
  {
   "cell_type": "code",
   "execution_count": null,
   "metadata": {},
   "outputs": [],
   "source": []
  }
 ],
 "metadata": {
  "kernelspec": {
   "display_name": "Octave",
   "language": "octave",
   "name": "octave"
  },
  "language_info": {
   "file_extension": ".m",
   "help_links": [
    {
     "text": "GNU Octave",
     "url": "https://www.gnu.org/software/octave/support.html"
    },
    {
     "text": "Octave Kernel",
     "url": "https://github.com/Calysto/octave_kernel"
    },
    {
     "text": "MetaKernel Magics",
     "url": "https://metakernel.readthedocs.io/en/latest/source/README.html"
    }
   ],
   "mimetype": "text/x-octave",
   "name": "octave",
   "version": "4.2.2"
  }
 },
 "nbformat": 4,
 "nbformat_minor": 4
}
